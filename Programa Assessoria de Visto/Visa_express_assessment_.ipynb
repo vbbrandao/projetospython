{
 "cells": [
  {
   "cell_type": "markdown",
   "metadata": {},
   "source": [
    "## Área para as bibliotecas"
   ]
  },
  {
   "cell_type": "code",
   "execution_count": 1,
   "metadata": {
    "id": "SnRO2rWG6T5O"
   },
   "outputs": [],
   "source": [
    "import openpyxl as opl\n",
    "import requests as rq\n",
    "import json\n",
    "import sys\n",
    "import os"
   ]
  },
  {
   "cell_type": "markdown",
   "metadata": {},
   "source": [
    "## Área de preparação das variáveis para o programa"
   ]
  },
  {
   "cell_type": "code",
   "execution_count": 16,
   "metadata": {
    "scrolled": true
   },
   "outputs": [
    {
     "name": "stdout",
     "output_type": "stream",
     "text": [
      "<Response [200]>\n",
      "{'USDBRL': {'code': 'USD', 'codein': 'BRL', 'name': 'Dólar Americano/Real Brasileiro', 'high': '4.865', 'low': '4.8319', 'varBid': '-0.0198', 'pctChange': '-0.41', 'bid': '4.8418', 'ask': '4.8429', 'timestamp': '1686763297', 'create_date': '2023-06-14 14:21:37'}}\n",
      "4.8418\n"
     ]
    }
   ],
   "source": [
    "#exemplo de como fazer a requisição de uma moeda via API \n",
    "#1- http://economia.awesomeapi.com.br/json/last/ padrão do site com as cotações\n",
    "#2- USD-BRL parte final onde deve ser digitado o par de cotações desejado\n",
    "#3- através do método get, para trazer a informação. Em caso de retorno 200 então true\n",
    "req_exemplo = rq.get('http://economia.awesomeapi.com.br/json/last/USD-BRL')\n",
    "print(req_exemplo)\n",
    "#4- passando a o método json para fazer a leitura e trazer o dict\n",
    "vlr_ex = req_exemplo.json()\n",
    "print(vlr_ex)\n",
    "#5- Passar a informação desejada do dict 'USDBRL', no caso 'bid', que significa o valor da cotação\n",
    "print(vlr_ex['USDBRL']['bid'])"
   ]
  },
  {
   "cell_type": "code",
   "execution_count": 32,
   "metadata": {
    "id": "raVk0g9uOAWC"
   },
   "outputs": [
    {
     "name": "stdout",
     "output_type": "stream",
     "text": [
      "O valor atual da cotação CADBRL é BRL 3.6411\n"
     ]
    }
   ],
   "source": [
    "#coletando cotação CAD/BRL\n",
    "requisição = rq.get('http://economia.awesomeapi.com.br/json/last/CAD-BRL')\n",
    "cotacaocadbrl = requisição.json()\n",
    "#Salvando a cotação CADBRL em variavel finalcotacaocadbrl\n",
    "finalcotacaocadbrl = (float(cotacaocadbrl['CADBRL']['bid']))\n",
    "print(f'O valor atual da cotação CADBRL é BRL {finalcotacaocadbrl}')"
   ]
  },
  {
   "cell_type": "code",
   "execution_count": 30,
   "metadata": {
    "colab": {
     "base_uri": "https://localhost:8080/"
    },
    "id": "ViCulV6jPczS",
    "outputId": "9590e380-9ad2-4449-fe5e-21db6eced406"
   },
   "outputs": [
    {
     "name": "stdout",
     "output_type": "stream",
     "text": [
      "O valor atual da cotação CADUSD é USD 0.7527\n"
     ]
    }
   ],
   "source": [
    "#Iniciando cálculo para chegar em CAD/COP, já que o API não suporta essa cotação, precisamos passar pelos seguintes cálculos:\n",
    "#CADUSD - trazer o valor de 1 CAD USD\n",
    "#USDCOP - trazer o valor 1 USD para COP\n",
    "#Multiplicar o valor da cotação (ou da fração), em dólar, para 1 CAD pelo valor da cotação de 1 dólar para COP, em COP.\n",
    "\n",
    "#Coletando cotação CAD/USD\n",
    "requisicao1 = rq.get('http://economia.awesomeapi.com.br/json/last/CAD-USD')\n",
    "cadusd = requisicao1.json()\n",
    "#Salvando a cotação CADUSD em variavel valorcadusd\n",
    "valorcadusd = float(cadusd['CADUSD']['bid'])\n",
    "print(f'O valor atual da cotação CADUSD é USD {valorcadusd}')"
   ]
  },
  {
   "cell_type": "code",
   "execution_count": 29,
   "metadata": {
    "colab": {
     "base_uri": "https://localhost:8080/"
    },
    "id": "oLwLVboKRKVS",
    "outputId": "57d8ba6f-1bcc-4259-94c0-9f84cdaaade6"
   },
   "outputs": [
    {
     "name": "stdout",
     "output_type": "stream",
     "text": [
      "O valor atual da cotação USD-COP é COP 4175.3\n"
     ]
    }
   ],
   "source": [
    "#Coletando cotação USD/COP\n",
    "requisicao2 = rq.get('http://economia.awesomeapi.com.br/json/last/USD-COP')\n",
    "usdcop = requisicao2.json()\n",
    "#Salvando a cotação USDCOP em variavel valorusdcop\n",
    "valorusdcop = float(usdcop['USDCOP']['bid'])\n",
    "print(f'O valor atual da cotação USD-COP é COP {valorusdcop}')"
   ]
  },
  {
   "cell_type": "code",
   "execution_count": 37,
   "metadata": {
    "colab": {
     "base_uri": "https://localhost:8080/"
    },
    "id": "9dpV2oQoRNeS",
    "outputId": "4b1d7487-0800-4a35-9040-7ce6d6892959",
    "scrolled": true
   },
   "outputs": [
    {
     "name": "stdout",
     "output_type": "stream",
     "text": [
      " O valor da cotação CADCOP é COP 3,142.75\n"
     ]
    }
   ],
   "source": [
    "#Obtendo cotação CAD/COP\n",
    "copfinal = (float(valorcadusd))*(float(valorusdcop))\n",
    "print(f' O valor da cotação CADCOP é COP {copfinal:,.2f}')"
   ]
  },
  {
   "cell_type": "code",
   "execution_count": 6,
   "metadata": {},
   "outputs": [],
   "source": [
    "#Criando a função de suporte financeiro mensal para o Canadá em dólares canadenses\n",
    "func_finsupport = lambda x,y: (833 * x) + y\n",
    "\n",
    "#Criando a função para a cotação em real\n",
    "func_cotacaobr = lambda x,y: (x*y)\n",
    "requisição = rq.get('http://economia.awesomeapi.com.br/json/last/CAD-BRL')\n",
    "cotacao = requisição.json()\n",
    "\n",
    "#criando lista para possíveis respostas dos usuários\n",
    "var_canada = ['Canada','CAN','can','canada','CANADA']\n",
    "var_brasil = ['Brasil','brasil','BRASIL','Brazil','brazil','BRAZIL','br','BR']\n",
    "var_colombia = ['Colombia','COLOMBIA','colombia','COL','col']\n",
    "var_australia = ['Australia','australia','aus','AUS']\n",
    "var_usa = ['EE.UU','EEUU','USA','UNITED STATES','United States','united states','USA','usa','EUA','eua']"
   ]
  },
  {
   "cell_type": "code",
   "execution_count": null,
   "metadata": {
    "colab": {
     "base_uri": "https://localhost:8080/"
    },
    "id": "GXqUHwSi4r97",
    "outputId": "0193db11-c473-4baf-f480-3cfaad3f9e32"
   },
   "outputs": [],
   "source": [
    "#iniciando o programa\n",
    "print('Hello! Welcome to visa express assesment')\n",
    "#verificando a nacionalidade do usuário\n",
    "nationality = input('What country are you from? ')\n",
    "#verificando destino do usuário\n",
    "country = input('Where are you going? ')\n",
    "#abrindo a condição para escolha de destino Canada\n",
    "if country in var_canada:\n",
    "    #verificando o tempo de curso\n",
    "    course_lenght = eval(input('For how long (in months)? '))\n",
    "    #verificando o valor da tuition\n",
    "    tuition_value = eval(input('How much is your tuition in dollars? '))\n",
    "    #respondendo o que será necessário para suporte financeiro\n",
    "    print('\\nOk! Here is what you need:')\n",
    "    #aplicando a função lambda para chegar no valor em CAD para suporte financeiro\n",
    "    finsuppCAD = func_finsupport(course_lenght, tuition_value)\n",
    "    print(f'You will need at least {finsuppCAD:,}', 'dollars in your account')\n",
    "#definindo cotação em real    \n",
    "    if nationality in var_brasil:\n",
    "      brlfinal = (func_cotacaobr(finalcotacaocadbrl,finsuppCAD))\n",
    "      print(f'The current exchange rate is: R$ {finalcotacaocadbrl} and the minimum amount in your currency is R$ {brlfinal:,.2f}')\n",
    "#definindo cotação em COP\n",
    "    elif nationality == 'Colombia' or 'colombia' or 'Col' or 'COL':\n",
    "      copfinalformat = func_cotacaobr(copfinal,finsuppCAD)\n",
    "      print(f'The current exchange rate is: COP {copfinal:,.4f} and the minimum amount in your currency is COP {copfinalformat:,.2f}')\n",
    "#mensagem extra      \n",
    "    print('you will also need to present academic and labour ties')\n",
    "#analisando presença de sponsor    \n",
    "    sponsor_support = input('Do you have a sponsor? ')\n",
    "#sponsor positivo\n",
    "    if sponsor_support == 'Yes' or sponsor_support =='yes'or sponsor_support =='y':\n",
    "      print('\\nProvide the following: \\n -sponsor letter \\n -sponsor bank statement from the last three months \\n -IRS declaration \\n labor certificate with the 3 last payslips')\n",
    "#sponsor negativo      \n",
    "    else:\n",
    "      print('\\nProvide your bank statement from the last three months with the above mentioned amount and IRS declaration')\n",
    "#analisando suporte academico      \n",
    "    academic_support = input('Do you have any second degree? ')\n",
    "#suporte academido de nível superior positivo    \n",
    "    if academic_support == 'Yes' or academic_support =='yes'or academic_support =='y':\n",
    "        print('\\nYou will need to provide a diploma of your highest degree')\n",
    "#suporte de nível academico superior negativo        \n",
    "    else:\n",
    "        print('\\nPlease present any certificate of studies')\n",
    "#analisando suporte laboral        \n",
    "    labor_support = input('Do you currently work? '  )\n",
    "#suporte laboral positivo    \n",
    "    if labor_support == 'Yes' or labor_support =='yes'or labor_support =='y':\n",
    "      print('\\nPlease also provide your labor certificate and three last payslips')\n",
    "#abrindo condição para Australia      \n",
    "elif country in var_australia:\n",
    "#Brasil e Colombia passam pelas mesmas condições  \n",
    "  if nationality in var_brasil or nationality in var_colombia:\n",
    "        print('\\nYou only need: \\n - COE\\n - Health insurance \\n - GTE letter')\n",
    "#abrindo condição para Estados Unidos\n",
    "elif country in var_usa:\n",
    "        print('\\nAsk for your online form')       \n",
    "#retorno, caso o aluno seja de um país diferente        \n",
    "else: \n",
    "    print('\\nPlease check with one of our staff what are the requirements for your country')\n",
    "print('After sending your documents to our staff please make sure to ask which will need to have a certified translation')"
   ]
  }
 ],
 "metadata": {
  "colab": {
   "provenance": []
  },
  "kernelspec": {
   "display_name": "Python 3 (ipykernel)",
   "language": "python",
   "name": "python3"
  },
  "language_info": {
   "codemirror_mode": {
    "name": "ipython",
    "version": 3
   },
   "file_extension": ".py",
   "mimetype": "text/x-python",
   "name": "python",
   "nbconvert_exporter": "python",
   "pygments_lexer": "ipython3",
   "version": "3.10.9"
  }
 },
 "nbformat": 4,
 "nbformat_minor": 1
}
